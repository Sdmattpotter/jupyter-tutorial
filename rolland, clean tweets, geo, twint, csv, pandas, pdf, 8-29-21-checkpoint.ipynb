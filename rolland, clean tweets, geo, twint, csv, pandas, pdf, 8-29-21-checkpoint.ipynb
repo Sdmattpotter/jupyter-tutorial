{
 "cells": [
  {
   "cell_type": "markdown",
   "id": "12560161",
   "metadata": {},
   "source": [
    "# rolland, clean tweets, geo, twint, csv, pandas, pdf, 8-29-21"
   ]
  },
  {
   "cell_type": "code",
   "execution_count": 1,
   "id": "9232c028",
   "metadata": {},
   "outputs": [],
   "source": [
    "import twint\n",
    "import csv\n",
    "import pandas as pd\n",
    "import numpy as np\n",
    "import datetime\n",
    "from collections import Counter\n",
    "import nest_asyncio\n",
    "import docx\n",
    "nest_asyncio.apply()\n",
    "import pdfkit\n",
    "import geopy"
   ]
  },
  {
   "cell_type": "code",
   "execution_count": 2,
   "id": "a75639a0",
   "metadata": {},
   "outputs": [],
   "source": [
    "path1 = '/Users/matthewpotter/Library/Mobile Documents/com~apple~CloudDocs/data/big data/twitter, rolland/'"
   ]
  },
  {
   "cell_type": "code",
   "execution_count": 3,
   "id": "c65d2eba",
   "metadata": {},
   "outputs": [],
   "source": [
    "def nowtimefsv(pth,ftype):\n",
    "    now = datetime.datetime.now()\n",
    "    nowstr = str(now)\n",
    "    t = (pth + nowstr + \".\" + ftype)\n",
    "    #print(t)\n",
    "    return t"
   ]
  },
  {
   "cell_type": "markdown",
   "id": "041a3a9f",
   "metadata": {},
   "source": [
    "# twint to csv:"
   ]
  },
  {
   "cell_type": "code",
   "execution_count": 4,
   "id": "f8ff5d41",
   "metadata": {},
   "outputs": [],
   "source": [
    "now = datetime.datetime.now()\n",
    "nowstr = str(now)\n",
    "c = twint.Config()\n",
    "c.Store_csv = True\n",
    "c.Stats = True\n",
    "c.Count = True\n",
    "c.Search = \"@drolland\"\n",
    "c.Geo = \"32.73649104086584, -117.16394726683455, 80km\"\n",
    "# c.Search = \"@CandiceRenee\"\n",
    "c.Limit = 20000\n",
    "c.Since = \"2021-06-01\"\n",
    "opath = (path1 + nowstr + \".csv\")\n",
    "c.Output = opath"
   ]
  },
  {
   "cell_type": "code",
   "execution_count": 5,
   "id": "6cc41767",
   "metadata": {},
   "outputs": [
    {
     "name": "stdout",
     "output_type": "stream",
     "text": [
      "1431316483427102724 2021-08-27 11:03:36 -0700 <drolland> @dragonfly_in_ca @MayorToddGloria 100% of the initial $83.7 million for San Diego's rent relief program has been distributed, in addition to some of the $51 million in Round 2 that was authorized by the City Council on July 27. More of that assistance is going out every day, and more funding is on the way. | 0 replies 1 retweets 2 likes\n",
      "1431306162847113222 2021-08-27 10:22:36 -0700 <drolland> @HulloLarisa Something Slavic, IMO. | 0 replies 0 retweets 2 likes\n",
      "1431116555543146496 2021-08-26 21:49:10 -0700 <drolland> @Bee_Bailey @KristinBlackson Prolly a combo of 1 and 2. | 0 replies 0 retweets 0 likes\n",
      "1431114513063899138 2021-08-26 21:41:03 -0700 <Bee_Bailey> @KristinBlackson @drolland So maybe it’s all but that one | 1 replies 0 retweets 0 likes\n",
      "1431107325260013571 2021-08-26 21:12:29 -0700 <KristinBlackson> @drolland @Bee_Bailey Yup, not 30’s:) | 1 replies 0 retweets 2 likes\n",
      "1431104167506898948 2021-08-26 20:59:56 -0700 <drolland> Helluva play there by Grisham. | 0 replies 0 retweets 0 likes\n",
      "1431102059374280710 2021-08-26 20:51:34 -0700 <drolland> @Bee_Bailey This is NOT just how your 30s feels.  https://t.co/VV7iCDRIB2 | 1 replies 0 retweets 6 likes\n",
      "1430794218604093445 2021-08-26 00:28:19 -0700 <drolland> HAHAHAHAHAHAHAHA! | 0 replies 0 retweets 4 likes\n",
      "1430783558931550211 2021-08-25 23:45:57 -0700 <WHATtheFERCH> @drolland My sentiments exactly. | 0 replies 0 retweets 1 likes\n",
      "1430782008817426438 2021-08-25 23:39:48 -0700 <drolland> God, I love it. | 1 replies 0 retweets 6 likes\n",
      "1430781918270787585 2021-08-25 23:39:26 -0700 <drolland> This stupid game. | 1 replies 0 retweets 9 likes\n",
      "1430777375407558661 2021-08-25 23:21:23 -0700 <Markcaffertysd> @drolland  https://t.co/CKdMzHlRgQ | 0 replies 0 retweets 0 likes\n",
      "1430777162622128130 2021-08-25 23:20:32 -0700 <drolland> @Markcaffertysd  https://t.co/TbP7POawSK | 1 replies 0 retweets 0 likes\n",
      "1430776149567631367 2021-08-25 23:16:31 -0700 <echo5juliet> @drolland Oh, nowadays one never knows 👍🏻 | 0 replies 0 retweets 1 likes\n",
      "1430775894876983300 2021-08-25 23:15:30 -0700 <drolland> @echo5juliet ⚾️ | 1 replies 0 retweets 0 likes\n",
      "1430775740891418627 2021-08-25 23:14:53 -0700 <echo5juliet> @drolland From? | 1 replies 0 retweets 0 likes\n",
      "1430774705301049346 2021-08-25 23:10:46 -0700 <Markcaffertysd> @drolland  https://t.co/aQVN2MuP8q | 1 replies 0 retweets 1 likes\n",
      "1430774490733047814 2021-08-25 23:09:55 -0700 <drolland> @Markcaffertysd  https://t.co/cIgqFz5pAU | 1 replies 0 retweets 0 likes\n",
      "1430773914917953536 2021-08-25 23:07:38 -0700 <Markcaffertysd> @drolland Sit the F down, Will. | 1 replies 0 retweets 1 likes\n",
      "1430773671539273732 2021-08-25 23:06:40 -0700 <drolland> I’m dying. 💀 | 2 replies 0 retweets 0 likes\n",
      "1430752932476047361 2021-08-25 21:44:15 -0700 <MikeyKnew> @richiesnippets @drolland I really do want y’all to do well. I’d love to see a Dodgers vs. Padres NLCS, especially with such exciting young players | 0 replies 0 retweets 1 likes\n",
      "1430751684498649088 2021-08-25 21:39:18 -0700 <richiesnippets> @MikeyKnew @drolland Lol fair play it’s just *hard* for us SD folks | 1 replies 0 retweets 1 likes\n",
      "1430751191386918916 2021-08-25 21:37:20 -0700 <MikeyKnew> @richiesnippets @drolland Richie? I’m from LA, man. What can I say? | 1 replies 0 retweets 2 likes\n",
      "1430751056036724741 2021-08-25 21:36:48 -0700 <richiesnippets> @MikeyKnew @drolland Mikey. | 1 replies 0 retweets 1 likes\n",
      "1430751015649746948 2021-08-25 21:36:38 -0700 <richiesnippets> @drolland Dave. | 0 replies 0 retweets 1 likes\n",
      "1430749036915531778 2021-08-25 21:28:47 -0700 <RollinBush> @drolland My version has the F preceding Will but with a comma instead of a period. | 0 replies 0 retweets 1 likes\n",
      "1430748957567643650 2021-08-25 21:28:28 -0700 <Markcaffertysd> @drolland I just call him F. F-ER actually. | 1 replies 0 retweets 1 likes\n",
      "1430748935279157256 2021-08-25 21:28:22 -0700 <MikeyKnew> @drolland And now we just throw in a casual Pujols | 1 replies 0 retweets 1 likes\n",
      "1430748206787223553 2021-08-25 21:25:29 -0700 <MikeyKnew> @drolland We love to see it | 1 replies 0 retweets 1 likes\n",
      "1430747647686545408 2021-08-25 21:23:15 -0700 <drolland> WILL F. SMITH! | 4 replies 0 retweets 2 likes\n",
      "1430652479046254592 2021-08-25 15:05:05 -0700 <jsnod> @kellylynndavis @theryanbradford @PeterHolslin @drolland @byalexzaragoza Pretty sure that’s my great aunt’s house | 0 replies 0 retweets 3 likes\n",
      "1430632894230274051 2021-08-25 13:47:16 -0700 <theryanbradford> @kellylynndavis @PeterHolslin @drolland @jsnod @byalexzaragoza I imagine Sloaty’s “trap” to be a perfectly fine house in Clairemont | 1 replies 0 retweets 2 likes\n",
      "1430491694126878723 2021-08-25 04:26:11 -0700 <KentRodricks> @27_pencil @drolland Impurities of politicians are well known. I have no illusions but I support holding all of them accountable. And by the way you correctly identify the entire rationale behind the gubernatorial candidacy of @Kevin_Faulconer | 1 replies 0 retweets 0 likes\n",
      "1430428409457373186 2021-08-25 00:14:43 -0700 <drolland> @theryanbradford @jsnod How did Slightly Stoopid do? | 1 replies 0 retweets 3 likes\n",
      "1430400764220874754 2021-08-24 22:24:52 -0700 <drolland> @JC6937 @Aztec4Life13 How did the Dodgers hurt you? | 1 replies 0 retweets 1 likes\n",
      "1430397446660575237 2021-08-24 22:11:41 -0700 <drolland> @Aztec4Life13 @JC6937 I think John thinks one of them should have caught it. | 1 replies 0 retweets 1 likes\n",
      "1430382165078921221 2021-08-24 21:10:58 -0700 <MikeyKnew> @KentRodricks @drolland Um, what do you think regularly scheduled elections are for? Or, can @Kevin_Faulconer not win those? | 0 replies 0 retweets 0 likes\n",
      "1430374680850952192 2021-08-24 20:41:13 -0700 <BetoGurmilan> @drolland 4 vs 1 and came up empty | 0 replies 0 retweets 1 likes\n",
      "1430373286580391937 2021-08-24 20:35:41 -0700 <drolland> @cmcameron It was right in front of us. We had no idea what happened. We thought it was a homer until we saw Bellinger celebrate. | 0 replies 0 retweets 0 likes\n",
      "1430372936976797702 2021-08-24 20:34:17 -0700 <drolland> Seriously. Zoom in on the faces. | 0 replies 0 retweets 3 likes\n",
      "1430372833511628801 2021-08-24 20:33:53 -0700 <drolland> @Aztec4Life13 It’s art. | 1 replies 0 retweets 0 likes\n",
      "1430372454057213958 2021-08-24 20:32:22 -0700 <cmcameron> @drolland That hurt. Bad! | 1 replies 0 retweets 1 likes\n",
      "1430370681145806849 2021-08-24 20:25:20 -0700 <drolland> This happened right in front of us. | 3 replies 0 retweets 1 likes\n",
      "1430370261128282113 2021-08-24 20:23:39 -0700 <drolland> @ItsStephPerera 👋 | 0 replies 0 retweets 0 likes\n",
      "1430358104248442881 2021-08-24 19:35:21 -0700 <ItsStephPerera> Hi @drolland | 1 replies 0 retweets 1 likes\n",
      "1430341598827606017 2021-08-24 18:29:46 -0700 <WalterJBishop> @drolland Just stop | 0 replies 0 retweets 1 likes\n",
      "1430333460074303489 2021-08-24 17:57:25 -0700 <KentRodricks> @maclauren70 @drolland Nothing more democratic than allowing people to have their say on the job their elected officials are doing. What’s new are the crazed zealots who can’t stand the concept of accountability. And people who draw a taxpayer-funded salary shouldn’t have an opinion | 0 replies 0 retweets 0 likes\n",
      "1430332778826977282 2021-08-24 17:54:43 -0700 <drolland> Seriously, Mets? 🤦🏼‍♂️  https://t.co/IRF6vIGq6z | 2 replies 0 retweets 2 likes\n",
      "1430331815470923780 2021-08-24 17:50:53 -0700 <drolland> Going to the game tonight. Too much to ask everyone to be kind to one another?  https://t.co/HtOK6TEmQl | 0 replies 0 retweets 3 likes\n",
      "1430331728678199296 2021-08-24 17:50:33 -0700 <KentRodricks> @augmentedballot @drolland No I had no idea. Obviously I’m an idiot | 0 replies 0 retweets 0 likes\n",
      "1430331544669876224 2021-08-24 17:49:49 -0700 <augmentedballot> @KentRodricks @drolland you do know we have elections for governor every 4 years in order express disagreement and whatnot | 1 replies 0 retweets 4 likes\n",
      "1430330153968693249 2021-08-24 17:44:17 -0700 <KentRodricks> @drolland Apparently so otherwise you’d have no problem with people expressing disagreement with the Governor. Maybe  Dave you should rail against actual abuse of process, like rights of disabled San Diego drivers being robbed of their accessibility and mobility to bike lanes | 1 replies 0 retweets 0 likes\n",
      "1430329804922839043 2021-08-24 17:42:54 -0700 <maclauren70> @drolland Nothing more Democratic than replacing a Gov who receives 49.8% of the vote with one who gets 13.7%!  Freeeeeeedom!!!!!!!! | 1 replies 0 retweets 5 likes\n",
      "1430329112103559171 2021-08-24 17:40:09 -0700 <drolland> That's me -- terrified of Democracy! 🤣 | 2 replies 0 retweets 16 likes\n",
      "1430327951095078917 2021-08-24 17:35:32 -0700 <KentRodricks> Can’t get past the .@drolland tweet about the Recall being ‘an abuse.’ God forbid elected officials should be held accountable. The political insiders are terrified of democracy as people flee California. But that’s lost on Rolland who has a cushy job, thanks to taxpayer largesse | 3 replies 0 retweets 2 likes\n",
      "1430255692150050817 2021-08-24 12:48:24 -0700 <drolland> @MeanestBossEver There's a public thing happening on Saturday -- four-stop ride.  https://t.co/hhbDDOUpnt | 0 replies 0 retweets 0 likes\n",
      "1430255350242967552 2021-08-24 12:47:03 -0700 <MeanestBossEver> @drolland Thanks Dave! | 1 replies 0 retweets 1 likes\n",
      "1430255261231419398 2021-08-24 12:46:41 -0700 <drolland> @MeanestBossEver November. | 1 replies 0 retweets 1 likes\n",
      "1430254212181479429 2021-08-24 12:42:31 -0700 <drolland> @kellylynndavis @theryanbradford @tonygidlund omg | 0 replies 0 retweets 3 likes\n",
      "1430250842859347972 2021-08-24 12:29:08 -0700 <drolland> @mckelmer Poetry:  https://t.co/vP1UvrkEbV | 0 replies 0 retweets 4 likes\n"
     ]
    },
    {
     "name": "stdout",
     "output_type": "stream",
     "text": [
      "1429972570195972097 2021-08-23 18:03:22 -0700 <drolland> @pwilson1328 @mtBorq Passed on the Assembly floor. Will need to go back to the Senate for concurrence with the amendments. | 1 replies 0 retweets 7 likes\n",
      "1429905504520720402 2021-08-23 13:36:53 -0700 <drolland> 🙌 | 0 replies 0 retweets 10 likes\n",
      "1429673627780190208 2021-08-22 22:15:29 -0700 <drolland> Wait. MTV still exists? | 0 replies 0 retweets 4 likes\n",
      "1429668151797583873 2021-08-22 21:53:43 -0700 <drolland> @BrettGWeise  https://t.co/IZwBoiWeuL | 0 replies 0 retweets 1 likes\n",
      "1429667768970878977 2021-08-22 21:52:12 -0700 <BrettGWeise> @drolland Very bizarre movie. | 1 replies 0 retweets 0 likes\n",
      "1429667256393375749 2021-08-22 21:50:10 -0700 <drolland> Whoa. “Annette.” Kooky. | 1 replies 0 retweets 0 likes\n",
      "1429534627396415490 2021-08-22 13:03:09 -0700 <SheaBenton> @drolland My god, reform the recall process, the referendum process, and the proposition process PLEEEEEEEEEEEEEEASE. It's too easy to get this shit on the ballot. This is a representative democracy. | 0 replies 0 retweets 1 likes\n",
      "1429534076277379075 2021-08-22 13:00:57 -0700 <drolland> Also, reform the recall process ASAP. | 1 replies 2 retweets 10 likes\n",
      "1429533602262380544 2021-08-22 12:59:04 -0700 <drolland> Don’t know who needs to hear this but the recall election is an absolute abuse of the process. If you don’t think Newsom is doing a good job, vote for someone else when he runs for reelection. Californians shouldn’t be subjected to some rando opportunist with 18% of the vote. #BS | 3 replies 11 retweets 62 likes\n",
      "1429307768301789188 2021-08-21 22:01:41 -0700 <drolland> @Mattable @BenMoraga @loteck @CityofSanDiego @ToddGloria Pretty sure that would be a first. | 0 replies 0 retweets 2 likes\n",
      "1429284118219558913 2021-08-21 20:27:43 -0700 <drolland> *his | 0 replies 0 retweets 0 likes\n",
      "1429283421122007044 2021-08-21 20:24:57 -0700 <drolland> Man, the Padres broadcast really lingered on Musgrove picking is nose there. 😳 | 2 replies 0 retweets 6 likes\n",
      "1428905539715563527 2021-08-20 19:23:23 -0700 <drolland> @WalterJBishop I have no opinion on this. | 0 replies 0 retweets 0 likes\n",
      "1428905000206430210 2021-08-20 19:21:14 -0700 <WalterJBishop> @drolland these are hideous that’s all  https://t.co/jvJ81dVNWb | 1 replies 0 retweets 2 likes\n",
      "1428854086779097088 2021-08-20 15:58:55 -0700 <drolland> @dallas_mc @Sosayweallsd @thunderbarcom @blindladyale @whistlestopbar Disturbing. | 1 replies 0 retweets 0 likes\n",
      "1428838040126988289 2021-08-20 14:55:09 -0700 <drolland> @KatieKSD ❤️ | 0 replies 0 retweets 0 likes\n",
      "1428748843282178054 2021-08-20 09:00:43 -0700 <MargieNewman> @drolland Save \"I'm sorry\" for when you did something wrong, friend! #mytedtalk | 0 replies 0 retweets 1 likes\n",
      "1428747686388256777 2021-08-20 08:56:07 -0700 <Presspasslc> @drolland 😇 | 0 replies 0 retweets 1 likes\n",
      "1428737783791689732 2021-08-20 08:16:46 -0700 <brerbear> @drolland are you British? | 0 replies 0 retweets 1 likes\n",
      "1428737462361227267 2021-08-20 08:15:30 -0700 <PaolaAvilaSD> @drolland You got this 🙌 | 0 replies 0 retweets 2 likes\n",
      "1428731142912413700 2021-08-20 07:50:23 -0700 <drolland> @Bee_Bailey 🙏🏻 | 0 replies 0 retweets 2 likes\n",
      "1428728305537060878 2021-08-20 07:39:07 -0700 <Bee_Bailey> @drolland Good luck!! | 1 replies 0 retweets 2 likes\n",
      "1428726982385102848 2021-08-20 07:33:51 -0700 <drolland> I’m gonna set a world record today for the number of times saying “Thank you,” “Please” and “I’m sorry.” | 8 replies 0 retweets 22 likes\n",
      "1422061634890002437 2021-08-01 22:08:09 -0700 <MeanestBossEver> @RachelLaing @drolland @AshDHarrington This may be a gender divide.  But I’m open to learning why I shouldn’t just do one wash on cold. | 1 replies 0 retweets 1 likes\n",
      "1421950040180940802 2021-08-01 14:44:42 -0700 <TheNickSerrano> @mattyagyagan @MayorToddGloria @ToddGloria @drolland @GGomezEJ @randyswilde @RudyVargas619  https://t.co/AbNqZgwBYy | 1 replies 0 retweets 6 likes\n",
      "1421935316089278470 2021-08-01 13:46:12 -0700 <TallDarknJewish> @drolland Always great to see you Dave! | 0 replies 0 retweets 1 likes\n",
      "1421921625461592066 2021-08-01 12:51:48 -0700 <davidlizerbram> @drolland @andykoppsd @BikeSD @omarpassons @manamonzavi We were the ones with the bikes | 1 replies 0 retweets 5 likes\n",
      "1421387321186738183 2021-07-31 01:28:40 -0700 <zeuqsav_x> @drolland 🤔 hold on I think I got it | 0 replies 0 retweets 0 likes\n",
      "1420644083136040961 2021-07-29 00:15:18 -0700 <SDGIS> @drolland Ohh it'll work.  Maybe not. | 0 replies 0 retweets 1 likes\n",
      "1419384171810615297 2021-07-25 12:48:52 -0700 <WalterJBishop> @drolland Squirrel finds a nut every once in awhile | 0 replies 0 retweets 4 likes\n",
      "1418567993945067526 2021-07-23 06:45:40 -0700 <WalterJBishop> @drolland @DustinNosler  https://t.co/aYhF44JVh0 | 0 replies 0 retweets 2 likes\n",
      "1415711952064577539 2021-07-15 09:36:46 -0700 <WalterJBishop> @RitaSFernandez @fpoplady @PaolaAvilaSD @TheNickSerrano @drolland @RipRippetoe @MarenReport | 1 replies 0 retweets 3 likes\n",
      "1413734501499371523 2021-07-09 22:39:05 -0700 <WalterJBishop> @drolland They called your desk line today asking about your status | 1 replies 0 retweets 1 likes\n",
      "1412119422131576843 2021-07-05 11:41:20 -0700 <Kinsee> @CombsSeth @drolland @carolyndramos  https://t.co/yRHlkqfVYM | 1 replies 0 retweets 2 likes\n",
      "1411091184273956866 2021-07-02 15:35:29 -0700 <Peter_Dennehy> @drolland I am shocked to the core to hear that KUSI might be trying to mislead us. #NotShocked | 0 replies 0 retweets 2 likes\n",
      "1408669370755141634 2021-06-25 23:12:04 -0700 <SheaBenton> @AndyCohenSD @drolland @Padres @Dodgers @SFGiants As a former Giants fan, their fans are way worse than the A’s fans. SF people are a different but similar type of pretentious as people in LA. | 1 replies 0 retweets 0 likes\n",
      "1408282180971679744 2021-06-24 21:33:31 -0700 <anna_a7d> @drolland And it is so accessible to everything amazing about North Park + affordable!!  https://t.co/nfY1GLOHZO | 3 replies 4 retweets 20 likes\n",
      "1407944554515288064 2021-06-23 23:11:54 -0700 <SheaBenton> @drolland @WalterJBishop I’m not saying everyone on Mayoral staff should bring their brooms in early and fill Dave’s office tomorrow, or that someone should go online and order 100 of these $5 brooms Walmart has to fill his office with this weekend…but it should be one of those things. | 1 replies 0 retweets 1 likes\n",
      "1407942797370347523 2021-06-23 23:04:55 -0700 <WalterJBishop> @drolland  https://t.co/HhtHwKaKKJ | 1 replies 0 retweets 2 likes\n",
      "1407942176294653955 2021-06-23 23:02:27 -0700 <WalterJBishop> @drolland  https://t.co/WBXvKlRMrI | 1 replies 0 retweets 3 likes\n",
      "[!] No more data! Scraping will stop now.\n",
      "found 0 deleted tweets in this search.\n",
      "[+] Finished: Successfully collected 100 Tweets.\n"
     ]
    }
   ],
   "source": [
    "twint.run.Search(c)"
   ]
  },
  {
   "cell_type": "code",
   "execution_count": 6,
   "id": "f4038593",
   "metadata": {},
   "outputs": [
    {
     "name": "stdout",
     "output_type": "stream",
     "text": [
      "/Users/matthewpotter/Library/Mobile Documents/com~apple~CloudDocs/data/big data/twitter, rolland/2021-08-28 12:16:26.626499.csv\n"
     ]
    }
   ],
   "source": [
    "print(opath)"
   ]
  },
  {
   "cell_type": "markdown",
   "id": "ca80f8c7",
   "metadata": {},
   "source": [
    "# csv to dataframe:\n",
    "\n",
    "# https://towardsdatascience.com/how-to-read-csv-file-using-pandas-ab1f5e7e7b58"
   ]
  },
  {
   "cell_type": "code",
   "execution_count": 7,
   "id": "58a923b1",
   "metadata": {},
   "outputs": [],
   "source": [
    "df = pd.read_csv (opath)\n",
    "# df"
   ]
  },
  {
   "cell_type": "code",
   "execution_count": 8,
   "id": "a5eeac47",
   "metadata": {},
   "outputs": [],
   "source": [
    "# df.info()"
   ]
  },
  {
   "cell_type": "code",
   "execution_count": 9,
   "id": "7ae81b81",
   "metadata": {},
   "outputs": [],
   "source": [
    "# df.shape"
   ]
  },
  {
   "cell_type": "code",
   "execution_count": 32,
   "id": "16b229ca",
   "metadata": {},
   "outputs": [
    {
     "name": "stdout",
     "output_type": "stream",
     "text": [
      "<class 'pandas.core.frame.DataFrame'>\n",
      "RangeIndex: 100 entries, 0 to 99\n",
      "Data columns (total 36 columns):\n",
      " #   Column           Non-Null Count  Dtype  \n",
      "---  ------           --------------  -----  \n",
      " 0   id               100 non-null    int64  \n",
      " 1   conversation_id  100 non-null    int64  \n",
      " 2   created_at       100 non-null    object \n",
      " 3   date             100 non-null    object \n",
      " 4   time             100 non-null    object \n",
      " 5   timezone         100 non-null    int64  \n",
      " 6   user_id          100 non-null    int64  \n",
      " 7   username         100 non-null    object \n",
      " 8   name             100 non-null    object \n",
      " 9   place            0 non-null      float64\n",
      " 10  tweet            100 non-null    object \n",
      " 11  language         100 non-null    object \n",
      " 12  mentions         100 non-null    object \n",
      " 13  urls             100 non-null    object \n",
      " 14  photos           100 non-null    object \n",
      " 15  replies_count    100 non-null    int64  \n",
      " 16  retweets_count   100 non-null    int64  \n",
      " 17  likes_count      100 non-null    int64  \n",
      " 18  hashtags         100 non-null    object \n",
      " 19  cashtags         100 non-null    object \n",
      " 20  link             100 non-null    object \n",
      " 21  retweet          100 non-null    bool   \n",
      " 22  quote_url        5 non-null      object \n",
      " 23  video            100 non-null    int64  \n",
      " 24  thumbnail        16 non-null     object \n",
      " 25  near             0 non-null      float64\n",
      " 26  geo              100 non-null    object \n",
      " 27  source           0 non-null      float64\n",
      " 28  user_rt_id       0 non-null      float64\n",
      " 29  user_rt          0 non-null      float64\n",
      " 30  retweet_id       0 non-null      float64\n",
      " 31  reply_to         100 non-null    object \n",
      " 32  retweet_date     0 non-null      float64\n",
      " 33  translate        0 non-null      float64\n",
      " 34  trans_src        0 non-null      float64\n",
      " 35  trans_dest       0 non-null      float64\n",
      "dtypes: bool(1), float64(10), int64(8), object(17)\n",
      "memory usage: 27.6+ KB\n"
     ]
    }
   ],
   "source": [
    "df.info()"
   ]
  },
  {
   "cell_type": "markdown",
   "id": "1fddb40c",
   "metadata": {},
   "source": [
    "# new dataframe with selected columns:"
   ]
  },
  {
   "cell_type": "code",
   "execution_count": 10,
   "id": "cb8c3cb2",
   "metadata": {},
   "outputs": [],
   "source": [
    "df3 = pd.read_csv(opath, usecols= ['name','created_at','tweet','retweets_count','replies_count','likes_count','reply_to'])"
   ]
  },
  {
   "cell_type": "code",
   "execution_count": 11,
   "id": "b1c6980a",
   "metadata": {},
   "outputs": [],
   "source": [
    "# df3"
   ]
  },
  {
   "cell_type": "markdown",
   "id": "c72f448d",
   "metadata": {},
   "source": [
    "# clean tweet, name columns:"
   ]
  },
  {
   "cell_type": "markdown",
   "id": "75d89e12",
   "metadata": {},
   "source": [
    "# https://pypi.org/project/tweet-preprocessor/"
   ]
  },
  {
   "cell_type": "code",
   "execution_count": 12,
   "id": "97c258ec",
   "metadata": {},
   "outputs": [],
   "source": [
    "def cleantweet(ttext):\n",
    "    import preprocessor as p\n",
    "    p.set_options(p.OPT.URL,p.OPT.RESERVED,p.OPT.EMOJI) #,p.OPT.MENTION\n",
    "    x = p.clean(ttext)\n",
    "    return x"
   ]
  },
  {
   "cell_type": "code",
   "execution_count": 13,
   "id": "832557e0",
   "metadata": {},
   "outputs": [],
   "source": [
    "def label(ttext):\n",
    "    x = (ttext)\n",
    "    dict_pairs = x.items()\n",
    "    pairs_iterator = iter(dict_pairs)\n",
    "    first_pair = next(pairs_iterator)\n",
    "    return str(first_pair[1])"
   ]
  },
  {
   "cell_type": "code",
   "execution_count": 14,
   "id": "8d5f48ce",
   "metadata": {},
   "outputs": [],
   "source": [
    "df3['tweet'] = df3['tweet'].map(lambda x: cleantweet(x))"
   ]
  },
  {
   "cell_type": "code",
   "execution_count": 15,
   "id": "293a214e",
   "metadata": {},
   "outputs": [],
   "source": [
    "df3['name'] = df3['name'].map(lambda x: cleantweet(x))"
   ]
  },
  {
   "cell_type": "code",
   "execution_count": 16,
   "id": "05ef53f5",
   "metadata": {},
   "outputs": [],
   "source": [
    "df3['reply_to'] = df3['reply_to'].map(lambda x: cleantweet(x))"
   ]
  },
  {
   "cell_type": "code",
   "execution_count": 17,
   "id": "3d1b9acf",
   "metadata": {},
   "outputs": [
    {
     "name": "stdout",
     "output_type": "stream",
     "text": [
      "<class 'pandas.core.frame.DataFrame'>\n",
      "RangeIndex: 100 entries, 0 to 99\n",
      "Data columns (total 7 columns):\n",
      " #   Column          Non-Null Count  Dtype \n",
      "---  ------          --------------  ----- \n",
      " 0   created_at      100 non-null    object\n",
      " 1   name            100 non-null    object\n",
      " 2   tweet           100 non-null    object\n",
      " 3   replies_count   100 non-null    int64 \n",
      " 4   retweets_count  100 non-null    int64 \n",
      " 5   likes_count     100 non-null    int64 \n",
      " 6   reply_to        100 non-null    object\n",
      "dtypes: int64(3), object(4)\n",
      "memory usage: 5.6+ KB\n"
     ]
    }
   ],
   "source": [
    "df3.info()"
   ]
  },
  {
   "cell_type": "markdown",
   "id": "cdcb0986",
   "metadata": {},
   "source": [
    "# split reply_to column:"
   ]
  },
  {
   "cell_type": "code",
   "execution_count": 18,
   "id": "c4567d43",
   "metadata": {},
   "outputs": [],
   "source": [
    "df4 = df3['reply_to'].apply(pd.Series)"
   ]
  },
  {
   "cell_type": "code",
   "execution_count": 19,
   "id": "7b63c80e",
   "metadata": {},
   "outputs": [
    {
     "data": {
      "text/plain": [
       "(100, 1)"
      ]
     },
     "execution_count": 19,
     "metadata": {},
     "output_type": "execute_result"
    }
   ],
   "source": [
    "df4.shape"
   ]
  },
  {
   "cell_type": "code",
   "execution_count": 20,
   "id": "0bea31aa",
   "metadata": {},
   "outputs": [
    {
     "data": {
      "text/html": [
       "<div>\n",
       "<style scoped>\n",
       "    .dataframe tbody tr th:only-of-type {\n",
       "        vertical-align: middle;\n",
       "    }\n",
       "\n",
       "    .dataframe tbody tr th {\n",
       "        vertical-align: top;\n",
       "    }\n",
       "\n",
       "    .dataframe thead th {\n",
       "        text-align: right;\n",
       "    }\n",
       "</style>\n",
       "<table border=\"1\" class=\"dataframe\">\n",
       "  <thead>\n",
       "    <tr style=\"text-align: right;\">\n",
       "      <th></th>\n",
       "      <th>0</th>\n",
       "    </tr>\n",
       "  </thead>\n",
       "  <tbody>\n",
       "    <tr>\n",
       "      <th>0</th>\n",
       "      <td>[{'screen_name': 'dragonfly_in_ca', 'name': 'd...</td>\n",
       "    </tr>\n",
       "    <tr>\n",
       "      <th>1</th>\n",
       "      <td>[{'screen_name': 'HulloLarisa', 'name': 'Laris...</td>\n",
       "    </tr>\n",
       "    <tr>\n",
       "      <th>2</th>\n",
       "      <td>[{'screen_name': 'Bee_Bailey', 'name': 'Britta...</td>\n",
       "    </tr>\n",
       "    <tr>\n",
       "      <th>3</th>\n",
       "      <td>[{'screen_name': 'KristinBlackson', 'name': 'K...</td>\n",
       "    </tr>\n",
       "    <tr>\n",
       "      <th>4</th>\n",
       "      <td>[{'screen_name': 'drolland', 'name': 'Dave Rol...</td>\n",
       "    </tr>\n",
       "    <tr>\n",
       "      <th>...</th>\n",
       "      <td>...</td>\n",
       "    </tr>\n",
       "    <tr>\n",
       "      <th>95</th>\n",
       "      <td>[{'screen_name': 'AndyCohenSD', 'name': 'Andy ...</td>\n",
       "    </tr>\n",
       "    <tr>\n",
       "      <th>96</th>\n",
       "      <td>[{'screen_name': 'drolland', 'name': 'Dave Rol...</td>\n",
       "    </tr>\n",
       "    <tr>\n",
       "      <th>97</th>\n",
       "      <td>[{'screen_name': 'drolland', 'name': 'Dave Rol...</td>\n",
       "    </tr>\n",
       "    <tr>\n",
       "      <th>98</th>\n",
       "      <td>[]</td>\n",
       "    </tr>\n",
       "    <tr>\n",
       "      <th>99</th>\n",
       "      <td>[]</td>\n",
       "    </tr>\n",
       "  </tbody>\n",
       "</table>\n",
       "<p>100 rows × 1 columns</p>\n",
       "</div>"
      ],
      "text/plain": [
       "                                                    0\n",
       "0   [{'screen_name': 'dragonfly_in_ca', 'name': 'd...\n",
       "1   [{'screen_name': 'HulloLarisa', 'name': 'Laris...\n",
       "2   [{'screen_name': 'Bee_Bailey', 'name': 'Britta...\n",
       "3   [{'screen_name': 'KristinBlackson', 'name': 'K...\n",
       "4   [{'screen_name': 'drolland', 'name': 'Dave Rol...\n",
       "..                                                ...\n",
       "95  [{'screen_name': 'AndyCohenSD', 'name': 'Andy ...\n",
       "96  [{'screen_name': 'drolland', 'name': 'Dave Rol...\n",
       "97  [{'screen_name': 'drolland', 'name': 'Dave Rol...\n",
       "98                                                 []\n",
       "99                                                 []\n",
       "\n",
       "[100 rows x 1 columns]"
      ]
     },
     "execution_count": 20,
     "metadata": {},
     "output_type": "execute_result"
    }
   ],
   "source": [
    "df4"
   ]
  },
  {
   "cell_type": "code",
   "execution_count": null,
   "id": "884653c8",
   "metadata": {},
   "outputs": [],
   "source": []
  },
  {
   "cell_type": "markdown",
   "id": "7134ca17",
   "metadata": {},
   "source": [
    "# df to word doc:"
   ]
  },
  {
   "cell_type": "markdown",
   "id": "b370f725",
   "metadata": {},
   "source": [
    "# https://newbedev.com/writing-a-python-pandas-dataframe-to-word-document\n",
    "\n",
    "# https://python-docx.readthedocs.io/en/latest/user/documents.html"
   ]
  },
  {
   "cell_type": "markdown",
   "id": "d0b6cb00",
   "metadata": {},
   "source": [
    "# df to pdf:"
   ]
  },
  {
   "cell_type": "markdown",
   "id": "a1d36905",
   "metadata": {
    "run_control": {
     "marked": true
    }
   },
   "source": [
    "# http://sanaitics.com/research-paper.aspx?id=71\n",
    "# https://stackoverflow.com/questions/33155776/export-pandas-dataframe-into-a-pdf-file-using-python\n",
    "# https://stackoverflow.com/questions/49631870/python-pandas-csv-to-html-unicodeencodeerror\n",
    "# https://github.com/pandas-dev/pandas/issues/30483"
   ]
  },
  {
   "cell_type": "code",
   "execution_count": 21,
   "id": "18c4c7b2",
   "metadata": {},
   "outputs": [],
   "source": [
    "opath1 =(path1 + nowstr + \".csv\")"
   ]
  },
  {
   "cell_type": "code",
   "execution_count": 22,
   "id": "c78c48de",
   "metadata": {},
   "outputs": [
    {
     "name": "stdout",
     "output_type": "stream",
     "text": [
      "/Users/matthewpotter/Library/Mobile Documents/com~apple~CloudDocs/data/big data/twitter, rolland/2021-08-28 12:16:26.626499.csv\n"
     ]
    }
   ],
   "source": [
    "print(opath1)"
   ]
  },
  {
   "cell_type": "code",
   "execution_count": 23,
   "id": "2136a863",
   "metadata": {},
   "outputs": [],
   "source": [
    "l = nowtimefsv(path1,\"csv\")"
   ]
  },
  {
   "cell_type": "code",
   "execution_count": 24,
   "id": "0ec73c7b",
   "metadata": {},
   "outputs": [
    {
     "data": {
      "text/plain": [
       "'/Users/matthewpotter/Library/Mobile Documents/com~apple~CloudDocs/data/big data/twitter, rolland/2021-08-28 12:18:03.928692.csv'"
      ]
     },
     "execution_count": 24,
     "metadata": {},
     "output_type": "execute_result"
    }
   ],
   "source": [
    "l"
   ]
  },
  {
   "cell_type": "code",
   "execution_count": 25,
   "id": "34ce4fb9",
   "metadata": {},
   "outputs": [
    {
     "name": "stdout",
     "output_type": "stream",
     "text": [
      "2021-08-28 12:16:26.626499\n"
     ]
    }
   ],
   "source": [
    "print(nowstr)"
   ]
  },
  {
   "cell_type": "code",
   "execution_count": 26,
   "id": "55e3e4f9",
   "metadata": {},
   "outputs": [],
   "source": [
    "opath2 =( path1 + \"test twint html \" + nowstr + \".html\")"
   ]
  },
  {
   "cell_type": "code",
   "execution_count": 27,
   "id": "9633cb38",
   "metadata": {},
   "outputs": [
    {
     "name": "stdout",
     "output_type": "stream",
     "text": [
      "/Users/matthewpotter/Library/Mobile Documents/com~apple~CloudDocs/data/big data/twitter, rolland/test twint html 2021-08-28 12:16:26.626499.html\n"
     ]
    }
   ],
   "source": [
    "print(opath2)"
   ]
  },
  {
   "cell_type": "code",
   "execution_count": 28,
   "id": "e0b6247c",
   "metadata": {},
   "outputs": [],
   "source": [
    "a = df3.to_html(classes='utf8') "
   ]
  },
  {
   "cell_type": "markdown",
   "id": "d7c57585",
   "metadata": {},
   "source": [
    "# fix for exclamation point errors in html encoding:\n",
    "# https://stackoverflow.com/questions/35894576/how-to-export-dataframe-to-html-with-utf-8-encoding"
   ]
  },
  {
   "cell_type": "code",
   "execution_count": 29,
   "id": "903f3124",
   "metadata": {},
   "outputs": [],
   "source": [
    "with open(opath2, \"w\", encoding=\"utf-8\") as f:\n",
    "    f.writelines('<meta charset=\"UTF-8\">\\n')\n",
    "    f.write(a)"
   ]
  },
  {
   "cell_type": "markdown",
   "id": "85c902e4",
   "metadata": {},
   "source": [
    "# make pdf from html:"
   ]
  },
  {
   "cell_type": "code",
   "execution_count": 30,
   "id": "88d3717e",
   "metadata": {},
   "outputs": [],
   "source": [
    "opath3 = (path1 + \"rolland twint pdf \" + nowstr + \".pdf\")"
   ]
  },
  {
   "cell_type": "code",
   "execution_count": 31,
   "id": "69184946",
   "metadata": {},
   "outputs": [
    {
     "name": "stdout",
     "output_type": "stream",
     "text": [
      "Loading pages (1/6)\n",
      "[>                                                           ] 0%\r",
      "[======>                                                     ] 10%\r",
      "[==============================>                             ] 50%\r",
      "[============================================================] 100%\r",
      "Counting pages (2/6)                                               \n",
      "[============================================================] Object 1 of 1\r",
      "Resolving links (4/6)                                                       \n",
      "[============================================================] Object 1 of 1\r",
      "Loading headers and footers (5/6)                                           \n",
      "Printing pages (6/6)\n",
      "[>                                                           ] Preparing\r",
      "[======>                                                     ] Page 1 of 10\r",
      "[============>                                               ] Page 2 of 10\r",
      "[==================>                                         ] Page 3 of 10\r",
      "[========================>                                   ] Page 4 of 10\r",
      "[==============================>                             ] Page 5 of 10\r",
      "[====================================>                       ] Page 6 of 10\r",
      "[==========================================>                 ] Page 7 of 10\r",
      "[================================================>           ] Page 8 of 10\r",
      "[======================================================>     ] Page 9 of 10\r",
      "[============================================================] Page 10 of 10\r",
      "Done                                                                        \n"
     ]
    },
    {
     "data": {
      "text/plain": [
       "True"
      ]
     },
     "execution_count": 31,
     "metadata": {},
     "output_type": "execute_result"
    }
   ],
   "source": [
    "pdfkit.from_file(opath2, opath3)"
   ]
  },
  {
   "cell_type": "code",
   "execution_count": null,
   "id": "31e44f23",
   "metadata": {},
   "outputs": [],
   "source": []
  }
 ],
 "metadata": {
  "kernelspec": {
   "display_name": "Python 3",
   "language": "python",
   "name": "python3"
  },
  "language_info": {
   "codemirror_mode": {
    "name": "ipython",
    "version": 3
   },
   "file_extension": ".py",
   "mimetype": "text/x-python",
   "name": "python",
   "nbconvert_exporter": "python",
   "pygments_lexer": "ipython3",
   "version": "3.8.10"
  }
 },
 "nbformat": 4,
 "nbformat_minor": 5
}
